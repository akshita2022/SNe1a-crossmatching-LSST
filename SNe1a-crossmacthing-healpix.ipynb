{
 "cells": [
  {
   "cell_type": "code",
   "execution_count": 2,
   "id": "d0bc6d6a-7a41-4654-bcc7-7261e3b4d981",
   "metadata": {},
   "outputs": [],
   "source": [
    "import matplotlib.pyplot as plt\n",
    "import numpy as np\n",
    "import pandas as pd\n",
    "from astropy.units import UnitsWarning\n",
    "import warnings\n",
    "from lsst.rsp import get_tap_service, retrieve_query\n",
    "\n",
    "import healpy as hp\n",
    "import math\n",
    "import gc"
   ]
  },
  {
   "cell_type": "code",
   "execution_count": 3,
   "id": "d9d70d5b-28e2-4d34-a9ba-6443ba9e8390",
   "metadata": {},
   "outputs": [],
   "source": [
    "warnings.simplefilter(\"ignore\", category=UnitsWarning)\n",
    "pd.set_option('display.max_rows', 200)"
   ]
  },
  {
   "cell_type": "code",
   "execution_count": 4,
   "id": "04a72aae-d369-4486-b308-392010681a1e",
   "metadata": {},
   "outputs": [],
   "source": [
    "%matplotlib inline"
   ]
  },
  {
   "cell_type": "code",
   "execution_count": 5,
   "id": "e95a1372-8a12-4e70-bbd6-8aa8a91ef8be",
   "metadata": {},
   "outputs": [],
   "source": [
    "service = get_tap_service()"
   ]
  },
  {
   "cell_type": "code",
   "execution_count": 125,
   "id": "ff34bad7-4ac7-447a-a45a-99335ce3ed18",
   "metadata": {},
   "outputs": [
    {
     "name": "stdout",
     "output_type": "stream",
     "text": [
      "The minimum and maximum apparent r-band magnitudes to use in the TAP query are 15.20 and 26.50 mag.\n"
     ]
    }
   ],
   "source": [
    "import time\n",
    "from IPython.display import Image\n",
    "\n",
    "import numpy\n",
    "import matplotlib.pyplot as plt\n",
    "\n",
    "from lsst.rsp import get_tap_service\n",
    "\n",
    "from astropy.cosmology import FlatLambdaCDM\n",
    "\n",
    "service = get_tap_service()\n",
    "\n",
    "cosmo = FlatLambdaCDM(H0=70, Om0=0.3)\n",
    "\n",
    "redshift_min = 0.02\n",
    "redshift_max = 1.4\n",
    "\n",
    "snia_peak_mag = -19.0\n",
    "snia_peak_mag_range = 0.5\n",
    "\n",
    "snia_peak_mr_min = cosmo.distmod(redshift_min).value + snia_peak_mag - snia_peak_mag_range\n",
    "snia_peak_mr_max = cosmo.distmod(redshift_max).value + snia_peak_mag + snia_peak_mag_range\n",
    "print('The minimum and maximum apparent r-band magnitudes '\n",
    "      'to use in the TAP query are %5.2f and %5.2f mag.' %\n",
    "      (snia_peak_mr_min, snia_peak_mr_max))\n",
    "\n",
    "\n",
    "snia_peak_mg_max = 24.0\n",
    "snia_peak_mi_max = 24.0\n",
    "\n",
    "snia_ampl_mr_min = 0\n",
    "snia_ampl_mr_max = 6.0\n",
    "\n",
    "snia_nDiaSources_min = 15\n",
    "snia_nDiaSources_max = 100\n",
    "\n",
    "snia_duration_min = 50\n",
    "snia_duration_max = 300\n",
    "\n",
    "results = service.search(\"SELECT ra, decl, diaObjectId, nDiaSources, \"\n",
    "                         \"scisql_nanojanskyToAbMag(rPSFluxMax) AS rMagMax, \"\n",
    "                         \"scisql_nanojanskyToAbMag(rPSFluxMin) AS rMagMin, \"\n",
    "                         \"scisql_nanojanskyToAbMag(gPSFluxMin) AS gMagMin, \"\n",
    "                         \"scisql_nanojanskyToAbMag(gPSFluxMax) AS gMagMax, \"\n",
    "                         \"scisql_nanojanskyToAbMag(iPSFluxMax) AS iMagMax, \"\n",
    "                         \"scisql_nanojanskyToAbMag(uPSFluxMax) AS uMagMax, \"\n",
    "                         \"scisql_nanojanskyToAbMag(yPSFluxMax) AS yMagMax, \"\n",
    "                         \"scisql_nanojanskyToAbMag(zPSFluxMax) AS zMagMax, \"\n",
    "\n",
    "\n",
    "                         \"scisql_nanojanskyToAbMag(rPSFluxMin)\"\n",
    "                         \" - scisql_nanojanskyToAbMag(rPSFluxMax) AS rMagAmp \"\n",
    "                         \"FROM dp02_dc2_catalogs.DiaObject \"\n",
    "                         \"WHERE nDiaSources > \"+str(snia_nDiaSources_min)+\" \"\n",
    "                         \"AND nDiaSources < \"+str(snia_nDiaSources_max)+\" \"\n",
    "                         \"AND scisql_nanojanskyToAbMag(rPSFluxMax) > \"+str(snia_peak_mr_min)+\" \"\n",
    "                         \"AND scisql_nanojanskyToAbMag(rPSFluxMax) < \"+str(snia_peak_mr_max)+\" \"\n",
    "                         \"AND scisql_nanojanskyToAbMag(gPSFluxMax) < \"+str(snia_peak_mg_max)+\" \"\n",
    "                         \"AND scisql_nanojanskyToAbMag(iPSFluxMax) < \"+str(snia_peak_mi_max)+\" \"\n",
    "                         \"AND scisql_nanojanskyToAbMag(rPSFluxMin)\"\n",
    "                         \" - scisql_nanojanskyToAbMag(rPSFluxMax) < \"+str(snia_ampl_mr_max)+\" \"\n",
    "                         \"AND scisql_nanojanskyToAbMag(rPSFluxMin)\"\n",
    "                         \" - scisql_nanojanskyToAbMag(rPSFluxMax) > \"+str(snia_ampl_mr_min)+\" \",\n",
    "                         maxrec=100000)\n",
    "\n",
    "df_do = results.to_table().to_pandas()\n",
    "del results"
   ]
  },
  {
   "cell_type": "code",
   "execution_count": 126,
   "id": "51bef5d2-6f65-4103-ad1a-4896f9e1aa22",
   "metadata": {},
   "outputs": [
    {
     "data": {
      "text/plain": [
       "73094"
      ]
     },
     "execution_count": 126,
     "metadata": {},
     "output_type": "execute_result"
    }
   ],
   "source": [
    "len(df_do)\n"
   ]
  },
  {
   "cell_type": "code",
   "execution_count": 127,
   "id": "120fcdd9-651c-4496-b7d4-7ff41c420825",
   "metadata": {},
   "outputs": [
    {
     "name": "stdout",
     "output_type": "stream",
     "text": [
      "SELECT * FROM dp02_dc2_catalogs.TruthSummary \n",
      "           WHERE \n",
      "           truth_type=3  \n",
      "        \n",
      "CPU times: user 27.1 s, sys: 309 ms, total: 27.4 s\n",
      "Wall time: 2min\n"
     ]
    }
   ],
   "source": [
    "%%time\n",
    "# This cell takes about 1.5 minutes...\n",
    "\n",
    "query = \"\"\"SELECT * FROM dp02_dc2_catalogs.TruthSummary \n",
    "           WHERE \n",
    "           truth_type=3  \n",
    "        \"\"\"\n",
    "\n",
    "print(query)\n",
    "\n",
    "results = service.search(query)\n",
    "df_ts3 = results.to_table().to_pandas()\n",
    "del results\n",
    "\n"
   ]
  },
  {
   "cell_type": "code",
   "execution_count": 128,
   "id": "f0a79f70-f755-4aff-8c2c-e5839cedf581",
   "metadata": {},
   "outputs": [
    {
     "data": {
      "text/plain": [
       "1.3809900283813477"
      ]
     },
     "execution_count": 128,
     "metadata": {},
     "output_type": "execute_result"
    }
   ],
   "source": [
    "len(df_ts3)\n",
    "max(df_ts3['redshift'])"
   ]
  },
  {
   "cell_type": "code",
   "execution_count": 129,
   "id": "80133aca-48bf-4584-a4b8-929690c01664",
   "metadata": {},
   "outputs": [],
   "source": [
    "# Healpix tools.\n",
    "#  From Sahar Allam (2016.07.08)\n",
    "\n",
    "##################################\n",
    "def radec2thetaphi(ra, dec):\n",
    "    import numpy as np\n",
    "    return (90-dec)*np.pi/180., ra*np.pi/180.\n",
    "\n",
    "##################################\n",
    "#DESDM uses nside=128, nest=True\n",
    "#Alex Drlica Wagner's healpixelated Gaia DR2 on des40 uses nside=32, nest=False\n",
    "def getipix(nside,ra,dec,nest=True):\n",
    "    import healpy as hp\n",
    "    theta, phi = radec2thetaphi(ra, dec)\n",
    "    ipix = hp.pixelfunc.ang2pix(nside, theta, phi, nest)\n",
    "    return ipix\n",
    "\n",
    "##################################\n"
   ]
  },
  {
   "cell_type": "code",
   "execution_count": 130,
   "id": "05b97caf-b83e-4808-9289-2a1ac37cfdc6",
   "metadata": {},
   "outputs": [
    {
     "name": "stdout",
     "output_type": "stream",
     "text": [
      "131072 2.593337450489216 1.6103842555394088\n"
     ]
    }
   ],
   "source": [
    "nside=2**17\n",
    "# Area in sq arcsec:\n",
    "area = 3600.*3600.*hp.pixelfunc.nside2pixarea(nside, degrees=True)\n",
    "# A rough measure of length in arcsec: \n",
    "length = math.sqrt(area)\n",
    "print(nside, area, length)"
   ]
  },
  {
   "cell_type": "code",
   "execution_count": 131,
   "id": "e5a15d73-104a-4e47-9946-b836d32df1dd",
   "metadata": {},
   "outputs": [
    {
     "data": {
      "text/plain": [
       "445209"
      ]
     },
     "execution_count": 131,
     "metadata": {},
     "output_type": "execute_result"
    }
   ],
   "source": [
    "df_ts3.loc[:,'HPX_2_17'] = getipix(nside, df_ts3.loc[:,'ra'].values, df_ts3.loc[:,'dec'].values)\n",
    "len(df_ts3)"
   ]
  },
  {
   "cell_type": "code",
   "execution_count": 132,
   "id": "45ff478a-7b7b-4ab5-9b8c-819d6b670ff6",
   "metadata": {},
   "outputs": [
    {
     "data": {
      "text/plain": [
       "73094"
      ]
     },
     "execution_count": 132,
     "metadata": {},
     "output_type": "execute_result"
    }
   ],
   "source": [
    "df_do.loc[:,'HPX_2_17'] = getipix(nside, df_do.loc[:,'ra'].values, df_do.loc[:,'decl'].values)\n",
    "len(df_do)"
   ]
  },
  {
   "cell_type": "code",
   "execution_count": 133,
   "id": "59e8103c-ca06-4e04-9e8f-4ca5a23a0b8d",
   "metadata": {},
   "outputs": [
    {
     "data": {
      "text/plain": [
       "2969"
      ]
     },
     "execution_count": 133,
     "metadata": {},
     "output_type": "execute_result"
    }
   ],
   "source": [
    "df_merged = pd.merge(df_ts3, df_do, how='inner', on=['HPX_2_17','HPX_2_17'])\n",
    "len(df_merged)"
   ]
  },
  {
   "cell_type": "code",
   "execution_count": 134,
   "id": "8385b423-4405-401b-a4b1-b5c7e66c7a9f",
   "metadata": {},
   "outputs": [],
   "source": [
    "df_merged['diff_ra'] = 3600.*(df_merged['ra_x'] - df_merged['ra_y'])\n",
    "df_merged['diff_dec'] = 3600.*(df_merged['dec'] - df_merged['decl'])"
   ]
  },
  {
   "cell_type": "code",
   "execution_count": 135,
   "id": "c909b837-88a6-4553-ba85-edc1adf9b699",
   "metadata": {},
   "outputs": [
    {
     "data": {
      "text/plain": [
       "array([[<AxesSubplot:title={'center':'diff_ra'}>]], dtype=object)"
      ]
     },
     "execution_count": 135,
     "metadata": {},
     "output_type": "execute_result"
    },
    {
     "data": {
      "image/png": "[encoded data removed]",
      "text/plain": [
       "<Figure size 640x480 with 1 Axes>"
      ]
     },
     "metadata": {},
     "output_type": "display_data"
    }
   ],
   "source": [
    "df_merged.hist('diff_ra')"
   ]
  },
  {
   "cell_type": "code",
   "execution_count": 136,
   "id": "52384112-0499-4df3-8a88-a6eda533ea56",
   "metadata": {},
   "outputs": [
    {
     "data": {
      "text/plain": [
       "array([[<AxesSubplot:title={'center':'diff_dec'}>]], dtype=object)"
      ]
     },
     "execution_count": 136,
     "metadata": {},
     "output_type": "execute_result"
    },
    {
     "data": {
      "image/png": "[encoded data removed]",
      "text/plain": [
       "<Figure size 640x480 with 1 Axes>"
      ]
     },
     "metadata": {},
     "output_type": "display_data"
    }
   ],
   "source": [
    "df_merged.hist('diff_dec')"
   ]
  },
  {
   "cell_type": "code",
   "execution_count": 137,
   "id": "9f5b170e-ae50-4349-a5c5-eaebe4bda298",
   "metadata": {},
   "outputs": [
    {
     "data": {
      "image/png": "[encoded data removed]",
      "text/plain": [
       "<Figure size 640x480 with 1 Axes>"
      ]
     },
     "metadata": {},
     "output_type": "display_data"
    }
   ],
   "source": [
    "from astropy.cosmology import FlatLambdaCDM\n",
    "import astropy.units as u\n",
    "cosmo = FlatLambdaCDM(H0=69.32 * u.km / u.s / u.Mpc, Tcmb0=2.725 * u.K, Om0=0.3)  \n",
    "R=df_merged['redshift']\n",
    "\n",
    "import astropy.cosmology.units as cu\n",
    "d_lcdm={}\n",
    "d_lcdm=cosmo.luminosity_distance(R)*1000000 #bolometric magnitude ie integrated over all bands\n",
    "\n",
    "from math import log10\n",
    "import numpy as np\n",
    "u_lcdm=[]\n",
    "\n",
    "for i in d_lcdm:\n",
    "    v=5*log10(i.to_value()/10)-19   #assumed peak brightness/lumnisoty of all type 1a SNe = -19\n",
    "    u_lcdm.append(v)\n",
    "\n",
    "R=df_merged['redshift']\n",
    "r_mag_max=df_merged['rMagMax']\n",
    "\n",
    "\n",
    "from matplotlib import pyplot as plt\n",
    "plt.scatter(R,u_lcdm,label='lcdm')\n",
    "plt.title('mu vs r, LCDM')\n",
    "plt.ylabel('r magnitude')\n",
    "plt.xlabel('redshifts')\n",
    "plt.show()\n",
    "\n",
    "\n"
   ]
  },
  {
   "cell_type": "code",
   "execution_count": 138,
   "id": "fb3ee1b5-591a-4d3b-994d-4bf55a9c7035",
   "metadata": {},
   "outputs": [
    {
     "data": {
      "text/plain": [
       "0.9370859861373901"
      ]
     },
     "execution_count": 138,
     "metadata": {},
     "output_type": "execute_result"
    }
   ],
   "source": []
  },
  {
   "cell_type": "code",
   "execution_count": 145,
   "id": "a9a02272-a849-4a3e-ac0a-375bd59036a3",
   "metadata": {},
   "outputs": [
    {
     "data": {
      "text/latex": [
       "$25666.39 \\; \\mathrm{Mpc}$"
      ],
      "text/plain": [
       "<Quantity 25666.39002642 Mpc>"
      ]
     },
     "execution_count": 145,
     "metadata": {},
     "output_type": "execute_result"
    }
   ],
   "source": [
    "a=cosmo.luminosity_distance(3)\n",
    "a\n"
   ]
  },
  {
   "cell_type": "code",
   "execution_count": 141,
   "id": "a097ecbd-ddb7-4b65-a689-d59fa21403a4",
   "metadata": {},
   "outputs": [
    {
     "data": {
      "image/png": "[encoded data removed]",
      "text/plain": [
       "<Figure size 640x480 with 1 Axes>"
      ]
     },
     "metadata": {},
     "output_type": "display_data"
    }
   ],
   "source": [
    "from matplotlib import pyplot as plt\n",
    "R_=R\n",
    "u_lcdm_=u_lcdm\n",
    "plt.plot(np.sort(R_),np.sort(u_lcdm_), label=\"lcdm\", color='r')\n",
    "plt.scatter(R,r_mag_max,label=\"lsst\")\n",
    "plt.title('\\u03BC vs z', fontsize=15)\n",
    "\n",
    "plt.ylabel('r magnitude', fontsize=15)\n",
    "plt.xlabel('redshift', fontsize=15)\n",
    "plt.ylim(10,40)\n",
    "plt.legend()\n",
    "plt.show()"
   ]
  },
  {
   "cell_type": "code",
   "execution_count": 115,
   "id": "8bb71aad-ad63-4aab-b41f-af2e350932c8",
   "metadata": {},
   "outputs": [
    {
     "ename": "AttributeError",
     "evalue": "'FlatLambdaCDM' object has no attribute 'z_at_value'",
     "output_type": "error",
     "traceback": [
      "\u001b[0;31m---------------------------------------------------------------------------\u001b[0m",
      "\u001b[0;31mAttributeError\u001b[0m                            Traceback (most recent call last)",
      "Input \u001b[0;32mIn [115]\u001b[0m, in \u001b[0;36m<cell line: 1>\u001b[0;34m()\u001b[0m\n\u001b[0;32m----> 1\u001b[0m cosmo\u001b[38;5;241m.\u001b[39mz_at_value(\u001b[38;5;241m10\u001b[39m)\n",
      "\u001b[0;31mAttributeError\u001b[0m: 'FlatLambdaCDM' object has no attribute 'z_at_value'"
     ]
    }
   ],
   "source": [
    "cosmo.z_at_value(10)"
   ]
  },
  {
   "cell_type": "code",
   "execution_count": null,
   "id": "81665150-a7a1-4d24-b8b8-3ae18ebb0108",
   "metadata": {},
   "outputs": [],
   "source": []
  }
 ],
 "metadata": {
  "kernelspec": {
   "display_name": "LSST",
   "language": "python",
   "name": "lsst"
  },
  "language_info": {
   "codemirror_mode": {
    "name": "ipython",
    "version": 3
   },
   "file_extension": ".py",
   "mimetype": "text/x-python",
   "name": "python",
   "nbconvert_exporter": "python",
   "pygments_lexer": "ipython3",
   "version": "3.10.5"
  }
 },
 "nbformat": 4,
 "nbformat_minor": 5
}
